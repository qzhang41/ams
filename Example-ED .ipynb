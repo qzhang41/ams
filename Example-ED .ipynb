{
 "cells": [
  {
   "cell_type": "code",
   "execution_count": 9,
   "id": "fb22a9bc",
   "metadata": {},
   "outputs": [],
   "source": [
    "import input_Parse\n",
    "import market_obj as MO\n",
    "from core import *"
   ]
  },
  {
   "cell_type": "code",
   "execution_count": 10,
   "id": "f0397a4c",
   "metadata": {},
   "outputs": [
    {
     "data": {
      "text/plain": "True"
     },
     "execution_count": 10,
     "metadata": {},
     "output_type": "execute_result"
    }
   ],
   "source": [
    "market = MO.Market('ED')\n",
    "# PJM 5-bus\n",
    "# you may switch to any other system data from matpower\n",
    "input_Parse.read_structure(market, 'C:\\matpower7.0b1\\data\\case5.m')"
   ]
  },
  {
   "cell_type": "code",
   "execution_count": 11,
   "id": "49265623",
   "metadata": {},
   "outputs": [
    {
     "name": "stdout",
     "output_type": "stream",
     "text": [
      "Gurobi Optimizer version 9.1.2 build v9.1.2rc0 (win64)\n",
      "Thread count: 4 physical cores, 8 logical processors, using up to 8 threads\n",
      "Optimize a model with 13 rows, 5 columns and 53 nonzeros\n",
      "Model fingerprint: 0x07b0a648\n",
      "Coefficient statistics:\n",
      "  Matrix range     [2e-01, 1e+00]\n",
      "  Objective range  [1e+01, 4e+01]\n",
      "  Bounds range     [4e+01, 6e+02]\n",
      "  RHS range        [2e+02, 1e+09]\n",
      "Presolve removed 11 rows and 0 columns\n",
      "Presolve time: 0.02s\n",
      "Presolved: 2 rows, 5 columns, 9 nonzeros\n",
      "\n",
      "Iteration    Objective       Primal Inf.    Dual Inf.      Time\n",
      "       0    9.0000000e+03   3.923914e+02   0.000000e+00      0s\n",
      "       2    1.9547380e+04   0.000000e+00   0.000000e+00      0s\n",
      "\n",
      "Solved in 2 iterations and 0.03 seconds\n",
      "Optimal objective  1.954737997e+04\n"
     ]
    }
   ],
   "source": [
    "ecnomic_dispatch(market)"
   ]
  },
  {
   "cell_type": "code",
   "execution_count": 12,
   "id": "0b0baf09",
   "metadata": {},
   "outputs": [
    {
     "data": {
      "text/plain": "40.0"
     },
     "execution_count": 12,
     "metadata": {},
     "output_type": "execute_result"
    }
   ],
   "source": [
    "# LMP value\n",
    "market.LMP\n",
    "# Generation output at 1st unit\n",
    "market.genco[0].opt_pg"
   ]
  },
  {
   "cell_type": "code",
   "execution_count": 12,
   "id": "0f8f53ce",
   "metadata": {},
   "outputs": [],
   "source": []
  }
 ],
 "metadata": {
  "kernelspec": {
   "display_name": "Python 3",
   "language": "python",
   "name": "python3"
  },
  "language_info": {
   "codemirror_mode": {
    "name": "ipython",
    "version": 3
   },
   "file_extension": ".py",
   "mimetype": "text/x-python",
   "name": "python",
   "nbconvert_exporter": "python",
   "pygments_lexer": "ipython3",
   "version": "3.7.7"
  },
  "varInspector": {
   "cols": {
    "lenName": 16,
    "lenType": 16,
    "lenVar": 40
   },
   "kernels_config": {
    "python": {
     "delete_cmd_postfix": "",
     "delete_cmd_prefix": "del ",
     "library": "var_list.py",
     "varRefreshCmd": "print(var_dic_list())"
    },
    "r": {
     "delete_cmd_postfix": ") ",
     "delete_cmd_prefix": "rm(",
     "library": "var_list.r",
     "varRefreshCmd": "cat(var_dic_list()) "
    }
   },
   "types_to_exclude": [
    "module",
    "function",
    "builtin_function_or_method",
    "instance",
    "_Feature"
   ],
   "window_display": false
  }
 },
 "nbformat": 4,
 "nbformat_minor": 5
}