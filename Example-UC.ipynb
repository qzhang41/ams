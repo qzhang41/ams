{
 "cells": [
  {
   "cell_type": "code",
   "execution_count": 12,
   "outputs": [],
   "source": [
    "import input_Parse\n",
    "import market_obj as MO\n",
    "from core import *"
   ],
   "metadata": {
    "collapsed": false,
    "pycharm": {
     "name": "#%%\n"
    }
   }
  },
  {
   "cell_type": "code",
   "execution_count": 13,
   "outputs": [],
   "source": [
    "market = MO.Market('ED')\n",
    "# IEEE 14 bus\n",
    "# you may switch to any other system data from matpower\n",
    "input_Parse.read_structure(market, 'C:\\\\matpower7.0b1\\\\most\\\\lib\\\\t\\\\tcase14.m')\n",
    "# generator specificaiton\n",
    "input_Parse.read_xgd(market, 'C:\\\\matpower7.0b1\\\\most\\\\lib\\\\t\\\\ex_xgd_uc2.m')\n",
    "# Time series load profile\n",
    "input_Parse.read_load(market, 'C:\\\\Users\\\\qzhang41\\\\PycharmProjects\\\\system\\\\load_profile_14_LTB.m')"
   ],
   "metadata": {
    "collapsed": false,
    "pycharm": {
     "name": "#%%\n"
    }
   }
  },
  {
   "cell_type": "code",
   "execution_count": 14,
   "metadata": {
    "collapsed": true
   },
   "outputs": [
    {
     "name": "stdout",
     "output_type": "stream",
     "text": [
      "Changed value of parameter NonConvex to 2\n",
      "   Prev: -1  Min: -1  Max: 2  Default: -1\n",
      "Warning for adding constraints: zero or small (< 1e-13) coefficients, ignored\n",
      "Gurobi Optimizer version 9.1.2 build v9.1.2rc0 (win64)\n",
      "Thread count: 4 physical cores, 8 logical processors, using up to 8 threads\n",
      "Optimize a model with 903 rows, 240 columns and 2722 nonzeros\n",
      "Model fingerprint: 0x3573133a\n",
      "Model has 60 quadratic objective terms\n",
      "Variable types: 60 continuous, 180 integer (180 binary)\n",
      "Coefficient statistics:\n",
      "  Matrix range     [4e-04, 1e+02]\n",
      "  Objective range  [2e+02, 3e+03]\n",
      "  QObjective range [5e+01, 2e+03]\n",
      "  Bounds range     [1e+00, 1e+00]\n",
      "  RHS range        [1e+00, 1e+09]\n",
      "Warning: Model contains large rhs\n",
      "         Consider reformulating model or setting NumericFocus parameter\n",
      "         to avoid numerical issues.\n",
      "Found heuristic solution: objective 66146.000000\n",
      "Presolve removed 789 rows and 110 columns\n",
      "Presolve time: 0.01s\n",
      "Presolved: 158 rows, 174 columns, 424 nonzeros\n",
      "Found heuristic solution: objective 62506.000000\n",
      "Variable types: 94 continuous, 80 integer (80 binary)\n",
      "Found heuristic solution: objective 38321.000000\n",
      "\n",
      "Root relaxation: objective 2.968598e+04, 21 iterations, 0.00 seconds\n",
      "\n",
      "    Nodes    |    Current Node    |     Objective Bounds      |     Work\n",
      " Expl Unexpl |  Obj  Depth IntInf | Incumbent    BestBd   Gap | It/Node Time\n",
      "\n",
      "     0     0 29685.9807    0   12 38321.0000 29685.9807  22.5%     -    0s\n",
      "H    0     0                    30111.000000 29685.9807  1.41%     -    0s\n",
      "\n",
      "Cutting planes:\n",
      "  Gomory: 1\n",
      "  Flow cover: 9\n",
      "\n",
      "Explored 1 nodes (23 simplex iterations) in 0.07 seconds\n",
      "Thread count was 8 (of 8 available processors)\n",
      "\n",
      "Solution count 5: 30111 38321 42171 ... 66146\n",
      "\n",
      "Optimal solution found (tolerance 1.00e-04)\n",
      "Best objective 3.011100000000e+04, best bound 3.011100000000e+04, gap 0.0000%\n"
     ]
    },
    {
     "data": {
      "text/plain": "[62.4, 62.4, 4.0, 62.4, 40.0, 62.4, 20.0, 35.0, 62.4, 5.0, 62.4, 22.0]"
     },
     "execution_count": 14,
     "metadata": {},
     "output_type": "execute_result"
    }
   ],
   "source": [
    "unit_commitment(market)\n",
    "# Generation output at 1st unit\n",
    "market.genco[0].T_pg\n",
    "# Unit status at 1st unit\n",
    "market.genco[0].T_status"
   ]
  }
 ],
 "metadata": {
  "kernelspec": {
   "display_name": "Python 3",
   "language": "python",
   "name": "python3"
  },
  "language_info": {
   "codemirror_mode": {
    "name": "ipython",
    "version": 2
   },
   "file_extension": ".py",
   "mimetype": "text/x-python",
   "name": "python",
   "nbconvert_exporter": "python",
   "pygments_lexer": "ipython2",
   "version": "2.7.6"
  }
 },
 "nbformat": 4,
 "nbformat_minor": 0
}